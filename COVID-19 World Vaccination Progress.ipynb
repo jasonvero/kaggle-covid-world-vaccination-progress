{
 "cells": [
  {
   "cell_type": "code",
   "execution_count": 8,
   "id": "ce633925",
   "metadata": {},
   "outputs": [],
   "source": [
    "# libraries\n",
    "\n",
    "import os\n",
    "import pandas as pd\n",
    "import numpy as np\n",
    "\n",
    "import matplotlib.pyplot as plt\n",
    "import seaborn as sns\n",
    "\n",
    "import warnings\n",
    "warnings.filterwarnings('ignore')"
   ]
  },
  {
   "cell_type": "code",
   "execution_count": 2,
   "id": "8db61dde",
   "metadata": {},
   "outputs": [],
   "source": [
    "pwd = os.getcwd()"
   ]
  },
  {
   "cell_type": "code",
   "execution_count": 3,
   "id": "26f7d88d",
   "metadata": {},
   "outputs": [
    {
     "data": {
      "text/plain": [
       "'/Users/jasonisberto/Python_Projects/archive'"
      ]
     },
     "execution_count": 3,
     "metadata": {},
     "output_type": "execute_result"
    }
   ],
   "source": [
    "pwd"
   ]
  },
  {
   "cell_type": "code",
   "execution_count": 6,
   "id": "0bafae6a",
   "metadata": {},
   "outputs": [
    {
     "data": {
      "text/html": [
       "<style>.container { width:100% !important; }</style>"
      ],
      "text/plain": [
       "<IPython.core.display.HTML object>"
      ]
     },
     "metadata": {},
     "output_type": "display_data"
    }
   ],
   "source": [
    "# Increase width of Jupyter Notebook Interface\n",
    "from IPython.core.display import display, HTML\n",
    "display(HTML(\"<style>.container { width:100% !important; }</style>\"))"
   ]
  },
  {
   "cell_type": "code",
   "execution_count": 9,
   "id": "fe607aab",
   "metadata": {},
   "outputs": [
    {
     "data": {
      "text/html": [
       "<div>\n",
       "<style scoped>\n",
       "    .dataframe tbody tr th:only-of-type {\n",
       "        vertical-align: middle;\n",
       "    }\n",
       "\n",
       "    .dataframe tbody tr th {\n",
       "        vertical-align: top;\n",
       "    }\n",
       "\n",
       "    .dataframe thead th {\n",
       "        text-align: right;\n",
       "    }\n",
       "</style>\n",
       "<table border=\"1\" class=\"dataframe\">\n",
       "  <thead>\n",
       "    <tr style=\"text-align: right;\">\n",
       "      <th></th>\n",
       "      <th>country</th>\n",
       "      <th>iso_code</th>\n",
       "      <th>date</th>\n",
       "      <th>total_vaccinations</th>\n",
       "      <th>people_vaccinated</th>\n",
       "      <th>people_fully_vaccinated</th>\n",
       "      <th>daily_vaccinations_raw</th>\n",
       "      <th>daily_vaccinations</th>\n",
       "      <th>total_vaccinations_per_hundred</th>\n",
       "      <th>people_vaccinated_per_hundred</th>\n",
       "      <th>people_fully_vaccinated_per_hundred</th>\n",
       "      <th>daily_vaccinations_per_million</th>\n",
       "      <th>vaccines</th>\n",
       "      <th>source_name</th>\n",
       "      <th>source_website</th>\n",
       "    </tr>\n",
       "  </thead>\n",
       "  <tbody>\n",
       "    <tr>\n",
       "      <th>0</th>\n",
       "      <td>Afghanistan</td>\n",
       "      <td>AFG</td>\n",
       "      <td>2021-02-22</td>\n",
       "      <td>0.0</td>\n",
       "      <td>0.0</td>\n",
       "      <td>NaN</td>\n",
       "      <td>NaN</td>\n",
       "      <td>NaN</td>\n",
       "      <td>0.00</td>\n",
       "      <td>0.00</td>\n",
       "      <td>NaN</td>\n",
       "      <td>NaN</td>\n",
       "      <td>Johnson&amp;Johnson, Oxford/AstraZeneca, Pfizer/Bi...</td>\n",
       "      <td>World Health Organization</td>\n",
       "      <td>https://covid19.who.int/</td>\n",
       "    </tr>\n",
       "    <tr>\n",
       "      <th>1</th>\n",
       "      <td>Afghanistan</td>\n",
       "      <td>AFG</td>\n",
       "      <td>2021-02-23</td>\n",
       "      <td>NaN</td>\n",
       "      <td>NaN</td>\n",
       "      <td>NaN</td>\n",
       "      <td>NaN</td>\n",
       "      <td>1367.0</td>\n",
       "      <td>NaN</td>\n",
       "      <td>NaN</td>\n",
       "      <td>NaN</td>\n",
       "      <td>34.0</td>\n",
       "      <td>Johnson&amp;Johnson, Oxford/AstraZeneca, Pfizer/Bi...</td>\n",
       "      <td>World Health Organization</td>\n",
       "      <td>https://covid19.who.int/</td>\n",
       "    </tr>\n",
       "    <tr>\n",
       "      <th>2</th>\n",
       "      <td>Afghanistan</td>\n",
       "      <td>AFG</td>\n",
       "      <td>2021-02-24</td>\n",
       "      <td>NaN</td>\n",
       "      <td>NaN</td>\n",
       "      <td>NaN</td>\n",
       "      <td>NaN</td>\n",
       "      <td>1367.0</td>\n",
       "      <td>NaN</td>\n",
       "      <td>NaN</td>\n",
       "      <td>NaN</td>\n",
       "      <td>34.0</td>\n",
       "      <td>Johnson&amp;Johnson, Oxford/AstraZeneca, Pfizer/Bi...</td>\n",
       "      <td>World Health Organization</td>\n",
       "      <td>https://covid19.who.int/</td>\n",
       "    </tr>\n",
       "    <tr>\n",
       "      <th>3</th>\n",
       "      <td>Afghanistan</td>\n",
       "      <td>AFG</td>\n",
       "      <td>2021-02-25</td>\n",
       "      <td>NaN</td>\n",
       "      <td>NaN</td>\n",
       "      <td>NaN</td>\n",
       "      <td>NaN</td>\n",
       "      <td>1367.0</td>\n",
       "      <td>NaN</td>\n",
       "      <td>NaN</td>\n",
       "      <td>NaN</td>\n",
       "      <td>34.0</td>\n",
       "      <td>Johnson&amp;Johnson, Oxford/AstraZeneca, Pfizer/Bi...</td>\n",
       "      <td>World Health Organization</td>\n",
       "      <td>https://covid19.who.int/</td>\n",
       "    </tr>\n",
       "    <tr>\n",
       "      <th>4</th>\n",
       "      <td>Afghanistan</td>\n",
       "      <td>AFG</td>\n",
       "      <td>2021-02-26</td>\n",
       "      <td>NaN</td>\n",
       "      <td>NaN</td>\n",
       "      <td>NaN</td>\n",
       "      <td>NaN</td>\n",
       "      <td>1367.0</td>\n",
       "      <td>NaN</td>\n",
       "      <td>NaN</td>\n",
       "      <td>NaN</td>\n",
       "      <td>34.0</td>\n",
       "      <td>Johnson&amp;Johnson, Oxford/AstraZeneca, Pfizer/Bi...</td>\n",
       "      <td>World Health Organization</td>\n",
       "      <td>https://covid19.who.int/</td>\n",
       "    </tr>\n",
       "    <tr>\n",
       "      <th>...</th>\n",
       "      <td>...</td>\n",
       "      <td>...</td>\n",
       "      <td>...</td>\n",
       "      <td>...</td>\n",
       "      <td>...</td>\n",
       "      <td>...</td>\n",
       "      <td>...</td>\n",
       "      <td>...</td>\n",
       "      <td>...</td>\n",
       "      <td>...</td>\n",
       "      <td>...</td>\n",
       "      <td>...</td>\n",
       "      <td>...</td>\n",
       "      <td>...</td>\n",
       "      <td>...</td>\n",
       "    </tr>\n",
       "    <tr>\n",
       "      <th>51303</th>\n",
       "      <td>Zimbabwe</td>\n",
       "      <td>ZWE</td>\n",
       "      <td>2021-10-10</td>\n",
       "      <td>5581524.0</td>\n",
       "      <td>3171399.0</td>\n",
       "      <td>2410125.0</td>\n",
       "      <td>9206.0</td>\n",
       "      <td>22396.0</td>\n",
       "      <td>36.98</td>\n",
       "      <td>21.01</td>\n",
       "      <td>15.97</td>\n",
       "      <td>1484.0</td>\n",
       "      <td>Oxford/AstraZeneca, Sinopharm/Beijing, Sinovac...</td>\n",
       "      <td>Ministry of Health</td>\n",
       "      <td>https://www.arcgis.com/home/webmap/viewer.html...</td>\n",
       "    </tr>\n",
       "    <tr>\n",
       "      <th>51304</th>\n",
       "      <td>Zimbabwe</td>\n",
       "      <td>ZWE</td>\n",
       "      <td>2021-10-11</td>\n",
       "      <td>5594808.0</td>\n",
       "      <td>3176445.0</td>\n",
       "      <td>2418363.0</td>\n",
       "      <td>13284.0</td>\n",
       "      <td>21918.0</td>\n",
       "      <td>37.07</td>\n",
       "      <td>21.05</td>\n",
       "      <td>16.02</td>\n",
       "      <td>1452.0</td>\n",
       "      <td>Oxford/AstraZeneca, Sinopharm/Beijing, Sinovac...</td>\n",
       "      <td>Ministry of Health</td>\n",
       "      <td>https://www.arcgis.com/home/webmap/viewer.html...</td>\n",
       "    </tr>\n",
       "    <tr>\n",
       "      <th>51305</th>\n",
       "      <td>Zimbabwe</td>\n",
       "      <td>ZWE</td>\n",
       "      <td>2021-10-12</td>\n",
       "      <td>5612476.0</td>\n",
       "      <td>3183015.0</td>\n",
       "      <td>2429461.0</td>\n",
       "      <td>17668.0</td>\n",
       "      <td>19999.0</td>\n",
       "      <td>37.19</td>\n",
       "      <td>21.09</td>\n",
       "      <td>16.10</td>\n",
       "      <td>1325.0</td>\n",
       "      <td>Oxford/AstraZeneca, Sinopharm/Beijing, Sinovac...</td>\n",
       "      <td>Ministry of Health</td>\n",
       "      <td>https://www.arcgis.com/home/webmap/viewer.html...</td>\n",
       "    </tr>\n",
       "    <tr>\n",
       "      <th>51306</th>\n",
       "      <td>Zimbabwe</td>\n",
       "      <td>ZWE</td>\n",
       "      <td>2021-10-13</td>\n",
       "      <td>5632534.0</td>\n",
       "      <td>3190977.0</td>\n",
       "      <td>2441557.0</td>\n",
       "      <td>20058.0</td>\n",
       "      <td>19001.0</td>\n",
       "      <td>37.32</td>\n",
       "      <td>21.14</td>\n",
       "      <td>16.18</td>\n",
       "      <td>1259.0</td>\n",
       "      <td>Oxford/AstraZeneca, Sinopharm/Beijing, Sinovac...</td>\n",
       "      <td>Ministry of Health</td>\n",
       "      <td>https://www.arcgis.com/home/webmap/viewer.html...</td>\n",
       "    </tr>\n",
       "    <tr>\n",
       "      <th>51307</th>\n",
       "      <td>Zimbabwe</td>\n",
       "      <td>ZWE</td>\n",
       "      <td>2021-10-14</td>\n",
       "      <td>5654267.0</td>\n",
       "      <td>3200122.0</td>\n",
       "      <td>2454145.0</td>\n",
       "      <td>21733.0</td>\n",
       "      <td>18098.0</td>\n",
       "      <td>37.46</td>\n",
       "      <td>21.20</td>\n",
       "      <td>16.26</td>\n",
       "      <td>1199.0</td>\n",
       "      <td>Oxford/AstraZeneca, Sinopharm/Beijing, Sinovac...</td>\n",
       "      <td>Ministry of Health</td>\n",
       "      <td>https://www.arcgis.com/home/webmap/viewer.html...</td>\n",
       "    </tr>\n",
       "  </tbody>\n",
       "</table>\n",
       "<p>51308 rows × 15 columns</p>\n",
       "</div>"
      ],
      "text/plain": [
       "           country iso_code        date  total_vaccinations  \\\n",
       "0      Afghanistan      AFG  2021-02-22                 0.0   \n",
       "1      Afghanistan      AFG  2021-02-23                 NaN   \n",
       "2      Afghanistan      AFG  2021-02-24                 NaN   \n",
       "3      Afghanistan      AFG  2021-02-25                 NaN   \n",
       "4      Afghanistan      AFG  2021-02-26                 NaN   \n",
       "...            ...      ...         ...                 ...   \n",
       "51303     Zimbabwe      ZWE  2021-10-10           5581524.0   \n",
       "51304     Zimbabwe      ZWE  2021-10-11           5594808.0   \n",
       "51305     Zimbabwe      ZWE  2021-10-12           5612476.0   \n",
       "51306     Zimbabwe      ZWE  2021-10-13           5632534.0   \n",
       "51307     Zimbabwe      ZWE  2021-10-14           5654267.0   \n",
       "\n",
       "       people_vaccinated  people_fully_vaccinated  daily_vaccinations_raw  \\\n",
       "0                    0.0                      NaN                     NaN   \n",
       "1                    NaN                      NaN                     NaN   \n",
       "2                    NaN                      NaN                     NaN   \n",
       "3                    NaN                      NaN                     NaN   \n",
       "4                    NaN                      NaN                     NaN   \n",
       "...                  ...                      ...                     ...   \n",
       "51303          3171399.0                2410125.0                  9206.0   \n",
       "51304          3176445.0                2418363.0                 13284.0   \n",
       "51305          3183015.0                2429461.0                 17668.0   \n",
       "51306          3190977.0                2441557.0                 20058.0   \n",
       "51307          3200122.0                2454145.0                 21733.0   \n",
       "\n",
       "       daily_vaccinations  total_vaccinations_per_hundred  \\\n",
       "0                     NaN                            0.00   \n",
       "1                  1367.0                             NaN   \n",
       "2                  1367.0                             NaN   \n",
       "3                  1367.0                             NaN   \n",
       "4                  1367.0                             NaN   \n",
       "...                   ...                             ...   \n",
       "51303             22396.0                           36.98   \n",
       "51304             21918.0                           37.07   \n",
       "51305             19999.0                           37.19   \n",
       "51306             19001.0                           37.32   \n",
       "51307             18098.0                           37.46   \n",
       "\n",
       "       people_vaccinated_per_hundred  people_fully_vaccinated_per_hundred  \\\n",
       "0                               0.00                                  NaN   \n",
       "1                                NaN                                  NaN   \n",
       "2                                NaN                                  NaN   \n",
       "3                                NaN                                  NaN   \n",
       "4                                NaN                                  NaN   \n",
       "...                              ...                                  ...   \n",
       "51303                          21.01                                15.97   \n",
       "51304                          21.05                                16.02   \n",
       "51305                          21.09                                16.10   \n",
       "51306                          21.14                                16.18   \n",
       "51307                          21.20                                16.26   \n",
       "\n",
       "       daily_vaccinations_per_million  \\\n",
       "0                                 NaN   \n",
       "1                                34.0   \n",
       "2                                34.0   \n",
       "3                                34.0   \n",
       "4                                34.0   \n",
       "...                               ...   \n",
       "51303                          1484.0   \n",
       "51304                          1452.0   \n",
       "51305                          1325.0   \n",
       "51306                          1259.0   \n",
       "51307                          1199.0   \n",
       "\n",
       "                                                vaccines  \\\n",
       "0      Johnson&Johnson, Oxford/AstraZeneca, Pfizer/Bi...   \n",
       "1      Johnson&Johnson, Oxford/AstraZeneca, Pfizer/Bi...   \n",
       "2      Johnson&Johnson, Oxford/AstraZeneca, Pfizer/Bi...   \n",
       "3      Johnson&Johnson, Oxford/AstraZeneca, Pfizer/Bi...   \n",
       "4      Johnson&Johnson, Oxford/AstraZeneca, Pfizer/Bi...   \n",
       "...                                                  ...   \n",
       "51303  Oxford/AstraZeneca, Sinopharm/Beijing, Sinovac...   \n",
       "51304  Oxford/AstraZeneca, Sinopharm/Beijing, Sinovac...   \n",
       "51305  Oxford/AstraZeneca, Sinopharm/Beijing, Sinovac...   \n",
       "51306  Oxford/AstraZeneca, Sinopharm/Beijing, Sinovac...   \n",
       "51307  Oxford/AstraZeneca, Sinopharm/Beijing, Sinovac...   \n",
       "\n",
       "                     source_name  \\\n",
       "0      World Health Organization   \n",
       "1      World Health Organization   \n",
       "2      World Health Organization   \n",
       "3      World Health Organization   \n",
       "4      World Health Organization   \n",
       "...                          ...   \n",
       "51303         Ministry of Health   \n",
       "51304         Ministry of Health   \n",
       "51305         Ministry of Health   \n",
       "51306         Ministry of Health   \n",
       "51307         Ministry of Health   \n",
       "\n",
       "                                          source_website  \n",
       "0                               https://covid19.who.int/  \n",
       "1                               https://covid19.who.int/  \n",
       "2                               https://covid19.who.int/  \n",
       "3                               https://covid19.who.int/  \n",
       "4                               https://covid19.who.int/  \n",
       "...                                                  ...  \n",
       "51303  https://www.arcgis.com/home/webmap/viewer.html...  \n",
       "51304  https://www.arcgis.com/home/webmap/viewer.html...  \n",
       "51305  https://www.arcgis.com/home/webmap/viewer.html...  \n",
       "51306  https://www.arcgis.com/home/webmap/viewer.html...  \n",
       "51307  https://www.arcgis.com/home/webmap/viewer.html...  \n",
       "\n",
       "[51308 rows x 15 columns]"
      ]
     },
     "execution_count": 9,
     "metadata": {},
     "output_type": "execute_result"
    }
   ],
   "source": [
    "vaccine_data = pd.read_csv('country_vaccinations.csv')\n",
    "vaccine_data"
   ]
  },
  {
   "cell_type": "markdown",
   "id": "63c036e3",
   "metadata": {},
   "source": [
    "# Data Preprocessing"
   ]
  },
  {
   "cell_type": "code",
   "execution_count": 10,
   "id": "ee1b58f7",
   "metadata": {},
   "outputs": [
    {
     "data": {
      "text/html": [
       "<div>\n",
       "<style scoped>\n",
       "    .dataframe tbody tr th:only-of-type {\n",
       "        vertical-align: middle;\n",
       "    }\n",
       "\n",
       "    .dataframe tbody tr th {\n",
       "        vertical-align: top;\n",
       "    }\n",
       "\n",
       "    .dataframe thead th {\n",
       "        text-align: right;\n",
       "    }\n",
       "</style>\n",
       "<table border=\"1\" class=\"dataframe\">\n",
       "  <thead>\n",
       "    <tr style=\"text-align: right;\">\n",
       "      <th></th>\n",
       "      <th>total_vaccinations</th>\n",
       "      <th>people_vaccinated</th>\n",
       "      <th>people_fully_vaccinated</th>\n",
       "      <th>daily_vaccinations_raw</th>\n",
       "      <th>daily_vaccinations</th>\n",
       "      <th>total_vaccinations_per_hundred</th>\n",
       "      <th>people_vaccinated_per_hundred</th>\n",
       "      <th>people_fully_vaccinated_per_hundred</th>\n",
       "      <th>daily_vaccinations_per_million</th>\n",
       "    </tr>\n",
       "  </thead>\n",
       "  <tbody>\n",
       "    <tr>\n",
       "      <th>count</th>\n",
       "      <td>2.790000e+04</td>\n",
       "      <td>2.646000e+04</td>\n",
       "      <td>2.343500e+04</td>\n",
       "      <td>2.292700e+04</td>\n",
       "      <td>5.105600e+04</td>\n",
       "      <td>27900.000000</td>\n",
       "      <td>26460.000000</td>\n",
       "      <td>23435.000000</td>\n",
       "      <td>51056.000000</td>\n",
       "    </tr>\n",
       "    <tr>\n",
       "      <th>mean</th>\n",
       "      <td>2.342338e+07</td>\n",
       "      <td>9.854448e+06</td>\n",
       "      <td>6.497176e+06</td>\n",
       "      <td>2.551749e+05</td>\n",
       "      <td>1.300419e+05</td>\n",
       "      <td>48.599821</td>\n",
       "      <td>28.945906</td>\n",
       "      <td>22.201195</td>\n",
       "      <td>3528.110428</td>\n",
       "    </tr>\n",
       "    <tr>\n",
       "      <th>std</th>\n",
       "      <td>1.318883e+08</td>\n",
       "      <td>3.900852e+07</td>\n",
       "      <td>2.450492e+07</td>\n",
       "      <td>1.273515e+06</td>\n",
       "      <td>8.473681e+05</td>\n",
       "      <td>47.994505</td>\n",
       "      <td>25.498277</td>\n",
       "      <td>22.922507</td>\n",
       "      <td>4329.794805</td>\n",
       "    </tr>\n",
       "    <tr>\n",
       "      <th>min</th>\n",
       "      <td>0.000000e+00</td>\n",
       "      <td>0.000000e+00</td>\n",
       "      <td>1.000000e+00</td>\n",
       "      <td>0.000000e+00</td>\n",
       "      <td>0.000000e+00</td>\n",
       "      <td>0.000000</td>\n",
       "      <td>0.000000</td>\n",
       "      <td>0.000000</td>\n",
       "      <td>0.000000</td>\n",
       "    </tr>\n",
       "    <tr>\n",
       "      <th>25%</th>\n",
       "      <td>2.493890e+05</td>\n",
       "      <td>1.911708e+05</td>\n",
       "      <td>9.627300e+04</td>\n",
       "      <td>5.046000e+03</td>\n",
       "      <td>9.200000e+02</td>\n",
       "      <td>6.190000</td>\n",
       "      <td>4.790000</td>\n",
       "      <td>2.680000</td>\n",
       "      <td>563.000000</td>\n",
       "    </tr>\n",
       "    <tr>\n",
       "      <th>50%</th>\n",
       "      <td>1.732574e+06</td>\n",
       "      <td>1.132125e+06</td>\n",
       "      <td>7.691060e+05</td>\n",
       "      <td>2.480100e+04</td>\n",
       "      <td>6.983500e+03</td>\n",
       "      <td>31.725000</td>\n",
       "      <td>22.240000</td>\n",
       "      <td>13.070000</td>\n",
       "      <td>2229.000000</td>\n",
       "    </tr>\n",
       "    <tr>\n",
       "      <th>75%</th>\n",
       "      <td>8.851120e+06</td>\n",
       "      <td>5.252562e+06</td>\n",
       "      <td>3.992498e+06</td>\n",
       "      <td>1.136670e+05</td>\n",
       "      <td>4.170425e+04</td>\n",
       "      <td>82.790000</td>\n",
       "      <td>50.820000</td>\n",
       "      <td>38.245000</td>\n",
       "      <td>5231.250000</td>\n",
       "    </tr>\n",
       "    <tr>\n",
       "      <th>max</th>\n",
       "      <td>2.227334e+09</td>\n",
       "      <td>1.100842e+09</td>\n",
       "      <td>1.047872e+09</td>\n",
       "      <td>2.474100e+07</td>\n",
       "      <td>2.242429e+07</td>\n",
       "      <td>240.660000</td>\n",
       "      <td>118.610000</td>\n",
       "      <td>117.910000</td>\n",
       "      <td>117497.000000</td>\n",
       "    </tr>\n",
       "  </tbody>\n",
       "</table>\n",
       "</div>"
      ],
      "text/plain": [
       "       total_vaccinations  people_vaccinated  people_fully_vaccinated  \\\n",
       "count        2.790000e+04       2.646000e+04             2.343500e+04   \n",
       "mean         2.342338e+07       9.854448e+06             6.497176e+06   \n",
       "std          1.318883e+08       3.900852e+07             2.450492e+07   \n",
       "min          0.000000e+00       0.000000e+00             1.000000e+00   \n",
       "25%          2.493890e+05       1.911708e+05             9.627300e+04   \n",
       "50%          1.732574e+06       1.132125e+06             7.691060e+05   \n",
       "75%          8.851120e+06       5.252562e+06             3.992498e+06   \n",
       "max          2.227334e+09       1.100842e+09             1.047872e+09   \n",
       "\n",
       "       daily_vaccinations_raw  daily_vaccinations  \\\n",
       "count            2.292700e+04        5.105600e+04   \n",
       "mean             2.551749e+05        1.300419e+05   \n",
       "std              1.273515e+06        8.473681e+05   \n",
       "min              0.000000e+00        0.000000e+00   \n",
       "25%              5.046000e+03        9.200000e+02   \n",
       "50%              2.480100e+04        6.983500e+03   \n",
       "75%              1.136670e+05        4.170425e+04   \n",
       "max              2.474100e+07        2.242429e+07   \n",
       "\n",
       "       total_vaccinations_per_hundred  people_vaccinated_per_hundred  \\\n",
       "count                    27900.000000                   26460.000000   \n",
       "mean                        48.599821                      28.945906   \n",
       "std                         47.994505                      25.498277   \n",
       "min                          0.000000                       0.000000   \n",
       "25%                          6.190000                       4.790000   \n",
       "50%                         31.725000                      22.240000   \n",
       "75%                         82.790000                      50.820000   \n",
       "max                        240.660000                     118.610000   \n",
       "\n",
       "       people_fully_vaccinated_per_hundred  daily_vaccinations_per_million  \n",
       "count                         23435.000000                    51056.000000  \n",
       "mean                             22.201195                     3528.110428  \n",
       "std                              22.922507                     4329.794805  \n",
       "min                               0.000000                        0.000000  \n",
       "25%                               2.680000                      563.000000  \n",
       "50%                              13.070000                     2229.000000  \n",
       "75%                              38.245000                     5231.250000  \n",
       "max                             117.910000                   117497.000000  "
      ]
     },
     "execution_count": 10,
     "metadata": {},
     "output_type": "execute_result"
    }
   ],
   "source": [
    "vaccine_data.describe()"
   ]
  },
  {
   "cell_type": "code",
   "execution_count": 12,
   "id": "6d4d188d",
   "metadata": {},
   "outputs": [
    {
     "data": {
      "text/plain": [
       "(51308, 15)"
      ]
     },
     "execution_count": 12,
     "metadata": {},
     "output_type": "execute_result"
    }
   ],
   "source": [
    "vaccine_data.shape"
   ]
  },
  {
   "cell_type": "code",
   "execution_count": 13,
   "id": "cde29d8b",
   "metadata": {},
   "outputs": [
    {
     "data": {
      "text/plain": [
       "Denmark             317\n",
       "Norway              316\n",
       "Latvia              314\n",
       "Scotland            310\n",
       "England             310\n",
       "                   ... \n",
       "Haiti                87\n",
       "Pitcairn             85\n",
       "Falkland Islands     67\n",
       "Tanzania             57\n",
       "Niue                 43\n",
       "Name: country, Length: 222, dtype: int64"
      ]
     },
     "execution_count": 13,
     "metadata": {},
     "output_type": "execute_result"
    }
   ],
   "source": [
    "vaccine_data['country'].value_counts()"
   ]
  },
  {
   "cell_type": "code",
   "execution_count": 26,
   "id": "5bd327fd",
   "metadata": {},
   "outputs": [
    {
     "data": {
      "text/plain": [
       "country                                0.000000\n",
       "iso_code                               0.000000\n",
       "date                                   0.000000\n",
       "total_vaccinations                     0.456225\n",
       "people_vaccinated                      0.484291\n",
       "people_fully_vaccinated                0.543249\n",
       "daily_vaccinations_raw                 0.553150\n",
       "daily_vaccinations                     0.004912\n",
       "total_vaccinations_per_hundred         0.456225\n",
       "people_vaccinated_per_hundred          0.484291\n",
       "people_fully_vaccinated_per_hundred    0.543249\n",
       "daily_vaccinations_per_million         0.004912\n",
       "vaccines                               0.000000\n",
       "source_name                            0.000000\n",
       "source_website                         0.000000\n",
       "dtype: float64"
      ]
     },
     "execution_count": 26,
     "metadata": {},
     "output_type": "execute_result"
    }
   ],
   "source": [
    "#Shows percentage of how many missing values are in each column.\n",
    "\n",
    "vaccine_data.isnull().sum() / vaccine_data.shape[0]"
   ]
  },
  {
   "cell_type": "markdown",
   "id": "121f3dd1",
   "metadata": {},
   "source": [
    "# Data Cleaning\n",
    "Creating new dataframes with subdata for different topics of interest¶\n"
   ]
  },
  {
   "cell_type": "code",
   "execution_count": 27,
   "id": "61c73b65",
   "metadata": {},
   "outputs": [
    {
     "data": {
      "text/plain": [
       "country                                0.0\n",
       "iso_code                               0.0\n",
       "date                                   0.0\n",
       "total_vaccinations                     0.0\n",
       "people_vaccinated                      0.0\n",
       "people_fully_vaccinated                0.0\n",
       "daily_vaccinations_raw                 0.0\n",
       "daily_vaccinations                     0.0\n",
       "total_vaccinations_per_hundred         0.0\n",
       "people_vaccinated_per_hundred          0.0\n",
       "people_fully_vaccinated_per_hundred    0.0\n",
       "daily_vaccinations_per_million         0.0\n",
       "vaccines                               0.0\n",
       "source_name                            0.0\n",
       "source_website                         0.0\n",
       "dtype: float64"
      ]
     },
     "execution_count": 27,
     "metadata": {},
     "output_type": "execute_result"
    }
   ],
   "source": [
    "clean_vaccine_data = vaccine_data.dropna()\n",
    "\n",
    "clean_vaccine_data.isnull().sum() / clean_vaccine_data.shape[0]"
   ]
  },
  {
   "cell_type": "code",
   "execution_count": 23,
   "id": "6f653e0b",
   "metadata": {},
   "outputs": [
    {
     "data": {
      "text/html": [
       "<div>\n",
       "<style scoped>\n",
       "    .dataframe tbody tr th:only-of-type {\n",
       "        vertical-align: middle;\n",
       "    }\n",
       "\n",
       "    .dataframe tbody tr th {\n",
       "        vertical-align: top;\n",
       "    }\n",
       "\n",
       "    .dataframe thead th {\n",
       "        text-align: right;\n",
       "    }\n",
       "</style>\n",
       "<table border=\"1\" class=\"dataframe\">\n",
       "  <thead>\n",
       "    <tr style=\"text-align: right;\">\n",
       "      <th></th>\n",
       "      <th>country</th>\n",
       "      <th>date</th>\n",
       "      <th>total_vaccinations</th>\n",
       "    </tr>\n",
       "  </thead>\n",
       "  <tbody>\n",
       "    <tr>\n",
       "      <th>94</th>\n",
       "      <td>Afghanistan</td>\n",
       "      <td>2021-05-27</td>\n",
       "      <td>593313.0</td>\n",
       "    </tr>\n",
       "    <tr>\n",
       "      <th>101</th>\n",
       "      <td>Afghanistan</td>\n",
       "      <td>2021-06-03</td>\n",
       "      <td>630305.0</td>\n",
       "    </tr>\n",
       "    <tr>\n",
       "      <th>260</th>\n",
       "      <td>Albania</td>\n",
       "      <td>2021-02-18</td>\n",
       "      <td>3049.0</td>\n",
       "    </tr>\n",
       "    <tr>\n",
       "      <th>342</th>\n",
       "      <td>Albania</td>\n",
       "      <td>2021-05-11</td>\n",
       "      <td>622507.0</td>\n",
       "    </tr>\n",
       "    <tr>\n",
       "      <th>343</th>\n",
       "      <td>Albania</td>\n",
       "      <td>2021-05-12</td>\n",
       "      <td>632676.0</td>\n",
       "    </tr>\n",
       "  </tbody>\n",
       "</table>\n",
       "</div>"
      ],
      "text/plain": [
       "         country        date  total_vaccinations\n",
       "94   Afghanistan  2021-05-27            593313.0\n",
       "101  Afghanistan  2021-06-03            630305.0\n",
       "260      Albania  2021-02-18              3049.0\n",
       "342      Albania  2021-05-11            622507.0\n",
       "343      Albania  2021-05-12            632676.0"
      ]
     },
     "execution_count": 23,
     "metadata": {},
     "output_type": "execute_result"
    }
   ],
   "source": [
    "#This line puts two columns in dataframe and drops rows with NA values.\n",
    "\n",
    "sub_data = clean_vaccine_data[['country', 'date', 'total_vaccinations']]\n",
    "sub_data.head()"
   ]
  },
  {
   "cell_type": "code",
   "execution_count": 29,
   "id": "5c952ccf",
   "metadata": {},
   "outputs": [
    {
     "data": {
      "text/plain": [
       "country               0.0\n",
       "date                  0.0\n",
       "total_vaccinations    0.0\n",
       "dtype: float64"
      ]
     },
     "execution_count": 29,
     "metadata": {},
     "output_type": "execute_result"
    }
   ],
   "source": [
    "#Double checks to see if sub dataframe was done correctly\n",
    "sub_data.isnull().sum() / sub_data.shape[0]"
   ]
  },
  {
   "cell_type": "code",
   "execution_count": 32,
   "id": "59ad2c67",
   "metadata": {},
   "outputs": [
    {
     "data": {
      "text/plain": [
       "(19524, 3)"
      ]
     },
     "execution_count": 32,
     "metadata": {},
     "output_type": "execute_result"
    }
   ],
   "source": [
    "#Double checks the shape of the subset dataframe \n",
    "sub_data.shape"
   ]
  },
  {
   "cell_type": "code",
   "execution_count": 35,
   "id": "dab0812f",
   "metadata": {},
   "outputs": [
    {
     "data": {
      "text/html": [
       "<div>\n",
       "<style scoped>\n",
       "    .dataframe tbody tr th:only-of-type {\n",
       "        vertical-align: middle;\n",
       "    }\n",
       "\n",
       "    .dataframe tbody tr th {\n",
       "        vertical-align: top;\n",
       "    }\n",
       "\n",
       "    .dataframe thead th {\n",
       "        text-align: right;\n",
       "    }\n",
       "</style>\n",
       "<table border=\"1\" class=\"dataframe\">\n",
       "  <thead>\n",
       "    <tr style=\"text-align: right;\">\n",
       "      <th></th>\n",
       "      <th>country</th>\n",
       "      <th>date</th>\n",
       "      <th>total_vaccinations</th>\n",
       "    </tr>\n",
       "  </thead>\n",
       "  <tbody>\n",
       "    <tr>\n",
       "      <th>48950</th>\n",
       "      <td>United States</td>\n",
       "      <td>2021-01-14</td>\n",
       "      <td>11148991.0</td>\n",
       "    </tr>\n",
       "    <tr>\n",
       "      <th>48951</th>\n",
       "      <td>United States</td>\n",
       "      <td>2021-01-15</td>\n",
       "      <td>12279180.0</td>\n",
       "    </tr>\n",
       "    <tr>\n",
       "      <th>48956</th>\n",
       "      <td>United States</td>\n",
       "      <td>2021-01-20</td>\n",
       "      <td>16525281.0</td>\n",
       "    </tr>\n",
       "    <tr>\n",
       "      <th>48957</th>\n",
       "      <td>United States</td>\n",
       "      <td>2021-01-21</td>\n",
       "      <td>17546374.0</td>\n",
       "    </tr>\n",
       "    <tr>\n",
       "      <th>48958</th>\n",
       "      <td>United States</td>\n",
       "      <td>2021-01-22</td>\n",
       "      <td>19107959.0</td>\n",
       "    </tr>\n",
       "    <tr>\n",
       "      <th>...</th>\n",
       "      <td>...</td>\n",
       "      <td>...</td>\n",
       "      <td>...</td>\n",
       "    </tr>\n",
       "    <tr>\n",
       "      <th>49216</th>\n",
       "      <td>United States</td>\n",
       "      <td>2021-10-07</td>\n",
       "      <td>399552444.0</td>\n",
       "    </tr>\n",
       "    <tr>\n",
       "      <th>49217</th>\n",
       "      <td>United States</td>\n",
       "      <td>2021-10-08</td>\n",
       "      <td>400669422.0</td>\n",
       "    </tr>\n",
       "    <tr>\n",
       "      <th>49218</th>\n",
       "      <td>United States</td>\n",
       "      <td>2021-10-09</td>\n",
       "      <td>401819240.0</td>\n",
       "    </tr>\n",
       "    <tr>\n",
       "      <th>49222</th>\n",
       "      <td>United States</td>\n",
       "      <td>2021-10-13</td>\n",
       "      <td>404371247.0</td>\n",
       "    </tr>\n",
       "    <tr>\n",
       "      <th>49223</th>\n",
       "      <td>United States</td>\n",
       "      <td>2021-10-14</td>\n",
       "      <td>405444558.0</td>\n",
       "    </tr>\n",
       "  </tbody>\n",
       "</table>\n",
       "<p>256 rows × 3 columns</p>\n",
       "</div>"
      ],
      "text/plain": [
       "             country        date  total_vaccinations\n",
       "48950  United States  2021-01-14          11148991.0\n",
       "48951  United States  2021-01-15          12279180.0\n",
       "48956  United States  2021-01-20          16525281.0\n",
       "48957  United States  2021-01-21          17546374.0\n",
       "48958  United States  2021-01-22          19107959.0\n",
       "...              ...         ...                 ...\n",
       "49216  United States  2021-10-07         399552444.0\n",
       "49217  United States  2021-10-08         400669422.0\n",
       "49218  United States  2021-10-09         401819240.0\n",
       "49222  United States  2021-10-13         404371247.0\n",
       "49223  United States  2021-10-14         405444558.0\n",
       "\n",
       "[256 rows x 3 columns]"
      ]
     },
     "execution_count": 35,
     "metadata": {},
     "output_type": "execute_result"
    }
   ],
   "source": [
    "#Subsets United States data from the original data set.\n",
    "\n",
    "US_Data = sub_data.loc[sub_data['country'] == 'United States']\n",
    "US_Data"
   ]
  },
  {
   "cell_type": "code",
   "execution_count": 37,
   "id": "8a795e79",
   "metadata": {},
   "outputs": [
    {
     "data": {
      "text/plain": [
       "48950     11148991.0\n",
       "48951     12279180.0\n",
       "48956     16525281.0\n",
       "48957     17546374.0\n",
       "48958     19107959.0\n",
       "            ...     \n",
       "49216    399552444.0\n",
       "49217    400669422.0\n",
       "49218    401819240.0\n",
       "49222    404371247.0\n",
       "49223    405444558.0\n",
       "Name: total_vaccinations, Length: 256, dtype: float64"
      ]
     },
     "execution_count": 37,
     "metadata": {},
     "output_type": "execute_result"
    }
   ],
   "source": [
    "#changes the total_vaccinations column from string elements to integer elements.\n",
    "\n",
    "pd.to_numeric(US_Data['total_vaccinations'])"
   ]
  },
  {
   "cell_type": "markdown",
   "id": "ecda1503",
   "metadata": {},
   "source": [
    "# Creating Visuals to represent data¶\n"
   ]
  },
  {
   "cell_type": "code",
   "execution_count": 46,
   "id": "8fcdcf19",
   "metadata": {},
   "outputs": [
    {
     "data": {
      "image/png": "[encoded data removed]",
      "text/plain": [
       "<Figure size 432x288 with 1 Axes>"
      ]
     },
     "metadata": {
      "needs_background": "light"
     },
     "output_type": "display_data"
    }
   ],
   "source": [
    "#Plots the graph of US Total Vaccinations. \n",
    "#MATPLOTLIB GRAPH\n",
    "\n",
    "x = US_Data['date']\n",
    "y = US_Data['total_vaccinations']\n",
    "\n",
    "plt.plot(x, y)\n",
    "ax = plt.gca()\n",
    "\n",
    "plt.show()"
   ]
  },
  {
   "cell_type": "code",
   "execution_count": 52,
   "id": "e52d50b0",
   "metadata": {},
   "outputs": [
    {
     "data": {
      "image/png": "[encoded data removed]",
      "text/plain": [
       "<Figure size 432x288 with 1 Axes>"
      ]
     },
     "metadata": {
      "needs_background": "light"
     },
     "output_type": "display_data"
    }
   ],
   "source": [
    "plt.plot(x, y)\n",
    "ax = plt.gca()\n",
    "ax.get_yaxis().get_major_formatter().set_scientific(False)\n",
    "plt.xticks(np.arange(0, len(x), step = 10), rotation = 45)\n",
    "plt.ylim(0, max(y))\n",
    "plt.title('US Vaccinations in Total')\n",
    "plt.xlabel('Date')\n",
    "plt.ylabel('Total Vaccinations')\n",
    "\n",
    "plt.show()"
   ]
  },
  {
   "cell_type": "code",
   "execution_count": 63,
   "id": "67a8e52a",
   "metadata": {},
   "outputs": [
    {
     "data": {
      "text/plain": [
       "Text(0, 0.5, 'Total Vaccinations')"
      ]
     },
     "execution_count": 63,
     "metadata": {},
     "output_type": "execute_result"
    },
    {
     "data": {
      "image/png": "[encoded data removed]",
      "text/plain": [
       "<Figure size 1440x432 with 1 Axes>"
      ]
     },
     "metadata": {
      "needs_background": "light"
     },
     "output_type": "display_data"
    }
   ],
   "source": [
    "#SEABORN GRAPH\n",
    "\n",
    "plt.figure(figsize = (20, 6))\n",
    "plt.title('US Total Vaccinations')\n",
    "sns.scatterplot(x = US_Data['date'], y = US_Data['total_vaccinations'])\n",
    "ax = plt.gca()\n",
    "ax.get_yaxis().get_major_formatter().set_scientific(False)\n",
    "plt.xticks(np.arange(0, len(x), step = 5), rotation = 45)\n",
    "plt.xlabel('Date')\n",
    "plt.ylabel('Total Vaccinations')"
   ]
  },
  {
   "cell_type": "code",
   "execution_count": 64,
   "id": "a8ed464b",
   "metadata": {},
   "outputs": [
    {
     "data": {
      "text/plain": [
       "['country',\n",
       " 'iso_code',\n",
       " 'date',\n",
       " 'total_vaccinations',\n",
       " 'people_vaccinated',\n",
       " 'people_fully_vaccinated',\n",
       " 'daily_vaccinations_raw',\n",
       " 'daily_vaccinations',\n",
       " 'total_vaccinations_per_hundred',\n",
       " 'people_vaccinated_per_hundred',\n",
       " 'people_fully_vaccinated_per_hundred',\n",
       " 'daily_vaccinations_per_million',\n",
       " 'vaccines',\n",
       " 'source_name',\n",
       " 'source_website']"
      ]
     },
     "execution_count": 64,
     "metadata": {},
     "output_type": "execute_result"
    }
   ],
   "source": [
    "list(vaccine_data.columns)"
   ]
  },
  {
   "cell_type": "code",
   "execution_count": null,
   "id": "0f20fc75",
   "metadata": {},
   "outputs": [],
   "source": [
    "#Plotting scatterplot matrix using Seaborn \n",
    "#create dataframe with important features."
   ]
  }
 ],
 "metadata": {
  "kernelspec": {
   "display_name": "Python 3",
   "language": "python",
   "name": "python3"
  },
  "language_info": {
   "codemirror_mode": {
    "name": "ipython",
    "version": 3
   },
   "file_extension": ".py",
   "mimetype": "text/x-python",
   "name": "python",
   "nbconvert_exporter": "python",
   "pygments_lexer": "ipython3",
   "version": "3.8.8"
  }
 },
 "nbformat": 4,
 "nbformat_minor": 5
}
